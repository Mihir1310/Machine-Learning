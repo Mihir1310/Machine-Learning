{
  "nbformat": 4,
  "nbformat_minor": 0,
  "metadata": {
    "kernelspec": {
      "display_name": "Python 3",
      "language": "python",
      "name": "python3"
    },
    "language_info": {
      "codemirror_mode": {
        "name": "ipython",
        "version": 3
      },
      "file_extension": ".py",
      "mimetype": "text/x-python",
      "name": "python",
      "nbconvert_exporter": "python",
      "pygments_lexer": "ipython3",
      "version": "3.8.5"
    },
    "colab": {
      "name": ".ipynb",
      "provenance": []
    }
  },
  "cells": [
    {
      "cell_type": "markdown",
      "metadata": {
        "id": "VQ9wiEGk1gNh"
      },
      "source": [
        "## Imbalanced dataset "
      ]
    },
    {
      "cell_type": "code",
      "metadata": {
        "id": "whqtFOy_1gNl"
      },
      "source": [
        "# !pip install imblearn"
      ],
      "execution_count": null,
      "outputs": []
    },
    {
      "cell_type": "code",
      "metadata": {
        "id": "OtajH0Q01gNn"
      },
      "source": [
        "from sklearn.svm import SVC\n",
        "import matplotlib.pyplot as plt\n",
        "import pandas as pd\n",
        "import numpy as np\n",
        "from sklearn.model_selection import train_test_split \n",
        "from sklearn import metrics \n",
        "from sklearn.datasets import make_classification\n",
        "from sklearn.metrics import plot_confusion_matrix\n",
        "from sklearn.metrics import precision_recall_fscore_support, classification_report,confusion_matrix, accuracy_score\n",
        "from sklearn.svm import SVC\n",
        "from sklearn import datasets, metrics\n",
        "from sklearn.datasets import load_iris\n",
        "%matplotlib inline\n",
        "\n",
        "from sklearn import datasets, metrics\n",
        "from sklearn.datasets import load_iris\n",
        "%matplotlib inline"
      ],
      "execution_count": null,
      "outputs": []
    },
    {
      "cell_type": "code",
      "metadata": {
        "id": "RhWnSGjI1gNo"
      },
      "source": [
        "df = pd.read_csv('Cancer_dataset.csv')"
      ],
      "execution_count": null,
      "outputs": []
    },
    {
      "cell_type": "code",
      "metadata": {
        "id": "co4RUekS1gNo",
        "outputId": "d4ee5c16-5178-4ad6-9ff7-83c0a4e0739f"
      },
      "source": [
        "df.drop('Unnamed: 3', axis=1)\n",
        "df.head(3)"
      ],
      "execution_count": null,
      "outputs": [
        {
          "data": {
            "text/html": [
              "<div>\n",
              "<style scoped>\n",
              "    .dataframe tbody tr th:only-of-type {\n",
              "        vertical-align: middle;\n",
              "    }\n",
              "\n",
              "    .dataframe tbody tr th {\n",
              "        vertical-align: top;\n",
              "    }\n",
              "\n",
              "    .dataframe thead th {\n",
              "        text-align: right;\n",
              "    }\n",
              "</style>\n",
              "<table border=\"1\" class=\"dataframe\">\n",
              "  <thead>\n",
              "    <tr style=\"text-align: right;\">\n",
              "      <th></th>\n",
              "      <th>Age</th>\n",
              "      <th>Race</th>\n",
              "      <th>Marital Status</th>\n",
              "      <th>Unnamed: 3</th>\n",
              "      <th>T Stage</th>\n",
              "      <th>N Stage</th>\n",
              "      <th>6th Stage</th>\n",
              "      <th>Grade</th>\n",
              "      <th>A Stage</th>\n",
              "      <th>Tumor Size</th>\n",
              "      <th>Estrogen Status</th>\n",
              "      <th>Progesterone Status</th>\n",
              "      <th>Regional Node Examined</th>\n",
              "      <th>Reginol Node Positive</th>\n",
              "      <th>Survival Months</th>\n",
              "      <th>Status</th>\n",
              "    </tr>\n",
              "  </thead>\n",
              "  <tbody>\n",
              "    <tr>\n",
              "      <th>0</th>\n",
              "      <td>43</td>\n",
              "      <td>Other (American Indian/AK Native, Asian/Pacifi...</td>\n",
              "      <td>Married (including common law)</td>\n",
              "      <td>NaN</td>\n",
              "      <td>T2</td>\n",
              "      <td>N3</td>\n",
              "      <td>IIIC</td>\n",
              "      <td>Moderately differentiated; Grade II</td>\n",
              "      <td>Regional</td>\n",
              "      <td>40</td>\n",
              "      <td>Positive</td>\n",
              "      <td>Positive</td>\n",
              "      <td>19</td>\n",
              "      <td>11</td>\n",
              "      <td>1</td>\n",
              "      <td>Alive</td>\n",
              "    </tr>\n",
              "    <tr>\n",
              "      <th>1</th>\n",
              "      <td>47</td>\n",
              "      <td>Other (American Indian/AK Native, Asian/Pacifi...</td>\n",
              "      <td>Married (including common law)</td>\n",
              "      <td>NaN</td>\n",
              "      <td>T2</td>\n",
              "      <td>N2</td>\n",
              "      <td>IIIA</td>\n",
              "      <td>Moderately differentiated; Grade II</td>\n",
              "      <td>Regional</td>\n",
              "      <td>45</td>\n",
              "      <td>Positive</td>\n",
              "      <td>Positive</td>\n",
              "      <td>25</td>\n",
              "      <td>9</td>\n",
              "      <td>2</td>\n",
              "      <td>Alive</td>\n",
              "    </tr>\n",
              "    <tr>\n",
              "      <th>2</th>\n",
              "      <td>67</td>\n",
              "      <td>White</td>\n",
              "      <td>Married (including common law)</td>\n",
              "      <td>NaN</td>\n",
              "      <td>T2</td>\n",
              "      <td>N1</td>\n",
              "      <td>IIB</td>\n",
              "      <td>Poorly differentiated; Grade III</td>\n",
              "      <td>Regional</td>\n",
              "      <td>25</td>\n",
              "      <td>Positive</td>\n",
              "      <td>Positive</td>\n",
              "      <td>4</td>\n",
              "      <td>1</td>\n",
              "      <td>2</td>\n",
              "      <td>Dead</td>\n",
              "    </tr>\n",
              "  </tbody>\n",
              "</table>\n",
              "</div>"
            ],
            "text/plain": [
              "   Age                                               Race  \\\n",
              "0   43  Other (American Indian/AK Native, Asian/Pacifi...   \n",
              "1   47  Other (American Indian/AK Native, Asian/Pacifi...   \n",
              "2   67                                              White   \n",
              "\n",
              "                   Marital Status  Unnamed: 3 T Stage  N Stage 6th Stage  \\\n",
              "0  Married (including common law)         NaN       T2      N3      IIIC   \n",
              "1  Married (including common law)         NaN       T2      N2      IIIA   \n",
              "2  Married (including common law)         NaN       T2      N1       IIB   \n",
              "\n",
              "                                 Grade   A Stage  Tumor Size Estrogen Status  \\\n",
              "0  Moderately differentiated; Grade II  Regional          40        Positive   \n",
              "1  Moderately differentiated; Grade II  Regional          45        Positive   \n",
              "2     Poorly differentiated; Grade III  Regional          25        Positive   \n",
              "\n",
              "  Progesterone Status  Regional Node Examined  Reginol Node Positive  \\\n",
              "0            Positive                      19                     11   \n",
              "1            Positive                      25                      9   \n",
              "2            Positive                       4                      1   \n",
              "\n",
              "   Survival Months Status  \n",
              "0                1  Alive  \n",
              "1                2  Alive  \n",
              "2                2   Dead  "
            ]
          },
          "execution_count": 28,
          "metadata": {},
          "output_type": "execute_result"
        }
      ]
    },
    {
      "cell_type": "code",
      "metadata": {
        "id": "qQlqd6Tf1gNp",
        "outputId": "46438419-0804-439c-f4ae-88996a86fc7d"
      },
      "source": [
        "df['Status'].value_counts()"
      ],
      "execution_count": null,
      "outputs": [
        {
          "data": {
            "text/plain": [
              "Alive    3408\n",
              "Dead      616\n",
              "Name: Status, dtype: int64"
            ]
          },
          "execution_count": 29,
          "metadata": {},
          "output_type": "execute_result"
        }
      ]
    },
    {
      "cell_type": "markdown",
      "metadata": {
        "id": "YEFktRiI1gNq"
      },
      "source": [
        "## Label encoding for categorical data"
      ]
    },
    {
      "cell_type": "code",
      "metadata": {
        "id": "8-V0QRp61gNq",
        "outputId": "b0f5d39d-3fe4-4222-b155-559d9e217a70"
      },
      "source": [
        "df.columns"
      ],
      "execution_count": null,
      "outputs": [
        {
          "data": {
            "text/plain": [
              "Index(['Age', 'Race', 'Marital Status', 'Unnamed: 3', 'T Stage ', 'N Stage',\n",
              "       '6th Stage', 'Grade', 'A Stage', 'Tumor Size', 'Estrogen Status',\n",
              "       'Progesterone Status', 'Regional Node Examined',\n",
              "       'Reginol Node Positive', 'Survival Months', 'Status'],\n",
              "      dtype='object')"
            ]
          },
          "execution_count": 30,
          "metadata": {},
          "output_type": "execute_result"
        }
      ]
    },
    {
      "cell_type": "code",
      "metadata": {
        "id": "sc4_w1SV1gNr",
        "outputId": "1163307d-85b0-4671-a9b4-6c873e929a82"
      },
      "source": [
        "df.dtypes"
      ],
      "execution_count": null,
      "outputs": [
        {
          "data": {
            "text/plain": [
              "Age                         int64\n",
              "Race                       object\n",
              "Marital Status             object\n",
              "Unnamed: 3                float64\n",
              "T Stage                    object\n",
              "N Stage                    object\n",
              "6th Stage                  object\n",
              "Grade                      object\n",
              "A Stage                    object\n",
              "Tumor Size                  int64\n",
              "Estrogen Status            object\n",
              "Progesterone Status        object\n",
              "Regional Node Examined      int64\n",
              "Reginol Node Positive       int64\n",
              "Survival Months             int64\n",
              "Status                     object\n",
              "dtype: object"
            ]
          },
          "execution_count": 31,
          "metadata": {},
          "output_type": "execute_result"
        }
      ]
    },
    {
      "cell_type": "code",
      "metadata": {
        "id": "8nIGnMUG1gNs"
      },
      "source": [
        "from sklearn import preprocessing\n",
        "le = preprocessing.LabelEncoder()\n",
        "\n",
        "for i in df.columns:\n",
        "    if(df[i].dtype==df['Age'].dtype):\n",
        "        continue\n",
        "    else:\n",
        "        df[i] = le.fit_transform(df[i].values)"
      ],
      "execution_count": null,
      "outputs": []
    },
    {
      "cell_type": "code",
      "metadata": {
        "id": "nUjdB0cZ1gNs",
        "outputId": "f58e13d0-3bd7-4991-e229-9dd823505251"
      },
      "source": [
        "df.head(3)"
      ],
      "execution_count": null,
      "outputs": [
        {
          "data": {
            "text/html": [
              "<div>\n",
              "<style scoped>\n",
              "    .dataframe tbody tr th:only-of-type {\n",
              "        vertical-align: middle;\n",
              "    }\n",
              "\n",
              "    .dataframe tbody tr th {\n",
              "        vertical-align: top;\n",
              "    }\n",
              "\n",
              "    .dataframe thead th {\n",
              "        text-align: right;\n",
              "    }\n",
              "</style>\n",
              "<table border=\"1\" class=\"dataframe\">\n",
              "  <thead>\n",
              "    <tr style=\"text-align: right;\">\n",
              "      <th></th>\n",
              "      <th>Age</th>\n",
              "      <th>Race</th>\n",
              "      <th>Marital Status</th>\n",
              "      <th>Unnamed: 3</th>\n",
              "      <th>T Stage</th>\n",
              "      <th>N Stage</th>\n",
              "      <th>6th Stage</th>\n",
              "      <th>Grade</th>\n",
              "      <th>A Stage</th>\n",
              "      <th>Tumor Size</th>\n",
              "      <th>Estrogen Status</th>\n",
              "      <th>Progesterone Status</th>\n",
              "      <th>Regional Node Examined</th>\n",
              "      <th>Reginol Node Positive</th>\n",
              "      <th>Survival Months</th>\n",
              "      <th>Status</th>\n",
              "    </tr>\n",
              "  </thead>\n",
              "  <tbody>\n",
              "    <tr>\n",
              "      <th>0</th>\n",
              "      <td>43</td>\n",
              "      <td>1</td>\n",
              "      <td>1</td>\n",
              "      <td>0</td>\n",
              "      <td>1</td>\n",
              "      <td>2</td>\n",
              "      <td>4</td>\n",
              "      <td>0</td>\n",
              "      <td>1</td>\n",
              "      <td>40</td>\n",
              "      <td>1</td>\n",
              "      <td>1</td>\n",
              "      <td>19</td>\n",
              "      <td>11</td>\n",
              "      <td>1</td>\n",
              "      <td>0</td>\n",
              "    </tr>\n",
              "    <tr>\n",
              "      <th>1</th>\n",
              "      <td>47</td>\n",
              "      <td>1</td>\n",
              "      <td>1</td>\n",
              "      <td>0</td>\n",
              "      <td>1</td>\n",
              "      <td>1</td>\n",
              "      <td>2</td>\n",
              "      <td>0</td>\n",
              "      <td>1</td>\n",
              "      <td>45</td>\n",
              "      <td>1</td>\n",
              "      <td>1</td>\n",
              "      <td>25</td>\n",
              "      <td>9</td>\n",
              "      <td>2</td>\n",
              "      <td>0</td>\n",
              "    </tr>\n",
              "    <tr>\n",
              "      <th>2</th>\n",
              "      <td>67</td>\n",
              "      <td>2</td>\n",
              "      <td>1</td>\n",
              "      <td>0</td>\n",
              "      <td>1</td>\n",
              "      <td>0</td>\n",
              "      <td>1</td>\n",
              "      <td>1</td>\n",
              "      <td>1</td>\n",
              "      <td>25</td>\n",
              "      <td>1</td>\n",
              "      <td>1</td>\n",
              "      <td>4</td>\n",
              "      <td>1</td>\n",
              "      <td>2</td>\n",
              "      <td>1</td>\n",
              "    </tr>\n",
              "  </tbody>\n",
              "</table>\n",
              "</div>"
            ],
            "text/plain": [
              "   Age  Race  Marital Status  Unnamed: 3  T Stage   N Stage  6th Stage  Grade  \\\n",
              "0   43     1               1           0         1        2          4      0   \n",
              "1   47     1               1           0         1        1          2      0   \n",
              "2   67     2               1           0         1        0          1      1   \n",
              "\n",
              "   A Stage  Tumor Size  Estrogen Status  Progesterone Status  \\\n",
              "0        1          40                1                    1   \n",
              "1        1          45                1                    1   \n",
              "2        1          25                1                    1   \n",
              "\n",
              "   Regional Node Examined  Reginol Node Positive  Survival Months  Status  \n",
              "0                      19                     11                1       0  \n",
              "1                      25                      9                2       0  \n",
              "2                       4                      1                2       1  "
            ]
          },
          "execution_count": 33,
          "metadata": {},
          "output_type": "execute_result"
        }
      ]
    },
    {
      "cell_type": "markdown",
      "metadata": {
        "id": "yHD_hNd21gNt"
      },
      "source": [
        "## Train test split"
      ]
    },
    {
      "cell_type": "code",
      "metadata": {
        "id": "OSYUfjru1gNt"
      },
      "source": [
        "from sklearn.model_selection import train_test_split\n",
        "y = df['Status']\n",
        "df=df.drop('Status', axis=1)\n",
        "X_train, X_test = train_test_split(df, test_size=0.2)\n",
        "y_train, y_test = train_test_split(y, test_size=0.2)"
      ],
      "execution_count": null,
      "outputs": []
    },
    {
      "cell_type": "code",
      "metadata": {
        "id": "mCDrqsO41gNt",
        "outputId": "700a3029-e8ad-499b-d9e7-af8743c0bdc1"
      },
      "source": [
        "len(X_train), len(X_test)\n",
        "len(y_train), len(y_test)"
      ],
      "execution_count": null,
      "outputs": [
        {
          "data": {
            "text/plain": [
              "(3219, 805)"
            ]
          },
          "execution_count": 35,
          "metadata": {},
          "output_type": "execute_result"
        }
      ]
    },
    {
      "cell_type": "markdown",
      "metadata": {
        "id": "KNfOr53_1gNu"
      },
      "source": [
        "## SMOTE "
      ]
    },
    {
      "cell_type": "code",
      "metadata": {
        "id": "2nrgczaM1gNu"
      },
      "source": [
        "from imblearn.over_sampling import SMOTE \n",
        "sm = SMOTE()\n",
        "X_smote_train, y_smote_train = sm.fit_resample(X_train, y_train)"
      ],
      "execution_count": null,
      "outputs": []
    },
    {
      "cell_type": "code",
      "metadata": {
        "id": "_S9tYXgA1gNu",
        "outputId": "086f4be9-7a96-4d39-c8ff-5810419fa2be"
      },
      "source": [
        "np.unique(y_smote_train,return_counts=True)"
      ],
      "execution_count": null,
      "outputs": [
        {
          "data": {
            "text/plain": [
              "(array([0, 1]), array([2738, 2738], dtype=int64))"
            ]
          },
          "execution_count": 44,
          "metadata": {},
          "output_type": "execute_result"
        }
      ]
    },
    {
      "cell_type": "code",
      "metadata": {
        "id": "wVg2OT7P1gNv"
      },
      "source": [
        "from sklearn.preprocessing import StandardScaler\n",
        "scalar = StandardScaler()\n",
        "X_smote_train = scalar.fit_transform(X_smote_train)\n",
        "X_test = scalar.fit_transform(X_test)"
      ],
      "execution_count": null,
      "outputs": []
    },
    {
      "cell_type": "code",
      "metadata": {
        "id": "V2CAYbF41gNv",
        "outputId": "ebf8a51c-7fe1-4e6e-8eb7-7bc08a14d19a"
      },
      "source": [
        "svc = SVC() #default kernel is RBF \n",
        "clf = svc.fit(X_smote_train,y_smote_train)\n",
        "y_pred = svc.predict(X_test)\n",
        "print(\"Confusion Matrix: \")\n",
        "print(confusion_matrix(y_test, y_pred))\n",
        "print()\n",
        "print(\"Classifiction Report :\")\n",
        "print(classification_report(y_test, y_pred))"
      ],
      "execution_count": null,
      "outputs": [
        {
          "name": "stdout",
          "output_type": "stream",
          "text": [
            "Confusion Matrix: \n",
            "[[395 275]\n",
            " [ 83  52]]\n",
            "\n",
            "Classifiction Report :\n",
            "              precision    recall  f1-score   support\n",
            "\n",
            "           0       0.83      0.59      0.69       670\n",
            "           1       0.16      0.39      0.23       135\n",
            "\n",
            "    accuracy                           0.56       805\n",
            "   macro avg       0.49      0.49      0.46       805\n",
            "weighted avg       0.71      0.56      0.61       805\n",
            "\n"
          ]
        }
      ]
    },
    {
      "cell_type": "markdown",
      "metadata": {
        "id": "14x3rEop1gNv"
      },
      "source": [
        "## BorderLine SMOTE"
      ]
    },
    {
      "cell_type": "code",
      "metadata": {
        "id": "v5ku-MA11gNv"
      },
      "source": [
        "from imblearn.over_sampling import BorderlineSMOTE\n",
        "oversample = BorderlineSMOTE()\n",
        "X_train_border_smote, y_train_border_smote = oversample.fit_resample(X_train, y_train)"
      ],
      "execution_count": null,
      "outputs": []
    },
    {
      "cell_type": "code",
      "metadata": {
        "id": "dsM0HHpy1gNw",
        "outputId": "c1af8c6f-6ccb-4b9b-9070-8465f610fa0d"
      },
      "source": [
        "np.unique(y_train_border_smote,return_counts=True)"
      ],
      "execution_count": null,
      "outputs": [
        {
          "data": {
            "text/plain": [
              "(array([0, 1]), array([2738, 2738], dtype=int64))"
            ]
          },
          "execution_count": 48,
          "metadata": {},
          "output_type": "execute_result"
        }
      ]
    },
    {
      "cell_type": "code",
      "metadata": {
        "id": "PIiLtp1U1gNw"
      },
      "source": [
        "from sklearn.preprocessing import StandardScaler\n",
        "scalar = StandardScaler()\n",
        "X_train_border_smote = scalar.fit_transform(X_train_border_smote)\n",
        "X_test = scalar.fit_transform(X_test)"
      ],
      "execution_count": null,
      "outputs": []
    },
    {
      "cell_type": "code",
      "metadata": {
        "id": "y5TFReZF1gNw",
        "outputId": "54aaf320-fea1-432d-bdff-1bc28ee34353"
      },
      "source": [
        "svc = SVC() #default kernel is RBF \n",
        "clf = svc.fit(X_train_border_smote,y_train_border_smote)\n",
        "y_pred = svc.predict(X_test)\n",
        "print(\"Confusion Matrix: \")\n",
        "print(confusion_matrix(y_test, y_pred))\n",
        "print()\n",
        "print(\"Classifiction Report :\")\n",
        "print(classification_report(y_test, y_pred))"
      ],
      "execution_count": null,
      "outputs": [
        {
          "name": "stdout",
          "output_type": "stream",
          "text": [
            "Confusion Matrix: \n",
            "[[426 244]\n",
            " [ 89  46]]\n",
            "\n",
            "Classifiction Report :\n",
            "              precision    recall  f1-score   support\n",
            "\n",
            "           0       0.83      0.64      0.72       670\n",
            "           1       0.16      0.34      0.22       135\n",
            "\n",
            "    accuracy                           0.59       805\n",
            "   macro avg       0.49      0.49      0.47       805\n",
            "weighted avg       0.72      0.59      0.63       805\n",
            "\n"
          ]
        }
      ]
    }
  ]
}